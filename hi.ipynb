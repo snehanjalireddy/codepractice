{
 "cells": [
  {
   "cell_type": "code",
   "execution_count": null,
   "id": "9bd91bc6-40e2-4a7f-aa43-a244d3d0b1b2",
   "metadata": {},
   "outputs": [],
   "source": [
    " #4 th video"
   ]
  },
  {
   "cell_type": "code",
   "execution_count": 4,
   "id": "5bc37027-b018-49d4-ab45-c8512699b5b3",
   "metadata": {},
   "outputs": [
    {
     "data": {
      "text/plain": [
       "9"
      ]
     },
     "execution_count": 4,
     "metadata": {},
     "output_type": "execute_result"
    }
   ],
   "source": [
    "9"
   ]
  },
  {
   "cell_type": "code",
   "execution_count": 5,
   "id": "e277c218-83ca-4426-be6f-5a11f880dea0",
   "metadata": {},
   "outputs": [
    {
     "data": {
      "text/plain": [
       "18"
      ]
     },
     "execution_count": 5,
     "metadata": {},
     "output_type": "execute_result"
    }
   ],
   "source": [
    "9+9"
   ]
  },
  {
   "cell_type": "code",
   "execution_count": 24,
   "id": "528660f7-8f99-4049-8076-6de91e48bbd2",
   "metadata": {},
   "outputs": [
    {
     "data": {
      "text/plain": [
       "14"
      ]
     },
     "execution_count": 24,
     "metadata": {},
     "output_type": "execute_result"
    }
   ],
   "source": [
    "9+9-(10-3)+3"
   ]
  },
  {
   "cell_type": "code",
   "execution_count": 25,
   "id": "41a97c04-5b12-44bf-be4f-64c1bfc17fea",
   "metadata": {},
   "outputs": [
    {
     "data": {
      "text/plain": [
       "8"
      ]
     },
     "execution_count": 25,
     "metadata": {},
     "output_type": "execute_result"
    }
   ],
   "source": [
    "9+9-10-3+3"
   ]
  },
  {
   "cell_type": "code",
   "execution_count": null,
   "id": "b6861903-f35f-4ac9-b568-e1ed61784f53",
   "metadata": {},
   "outputs": [],
   "source": [
    "# numbers are called operand\n",
    "# +,-,*, are called operator"
   ]
  },
  {
   "cell_type": "code",
   "execution_count": null,
   "id": "b059760b-c5d7-41ef-bbc6-96aeff5e0f99",
   "metadata": {},
   "outputs": [],
   "source": [
    "# ARITHEMATIC OPERATOR"
   ]
  },
  {
   "cell_type": "code",
   "execution_count": 11,
   "id": "322df1d3-0374-4563-8ba1-c9a22da772c0",
   "metadata": {},
   "outputs": [
    {
     "data": {
      "text/plain": [
       "15"
      ]
     },
     "execution_count": 11,
     "metadata": {},
     "output_type": "execute_result"
    }
   ],
   "source": [
    "10+5"
   ]
  },
  {
   "cell_type": "code",
   "execution_count": 12,
   "id": "c546fa93-cd59-4c12-88e2-90a009661844",
   "metadata": {},
   "outputs": [
    {
     "data": {
      "text/plain": [
       "5"
      ]
     },
     "execution_count": 12,
     "metadata": {},
     "output_type": "execute_result"
    }
   ],
   "source": [
    "10-5"
   ]
  },
  {
   "cell_type": "code",
   "execution_count": 13,
   "id": "457150a1-7441-4078-aca7-477191f25157",
   "metadata": {},
   "outputs": [
    {
     "data": {
      "text/plain": [
       "50"
      ]
     },
     "execution_count": 13,
     "metadata": {},
     "output_type": "execute_result"
    }
   ],
   "source": [
    "10*5"
   ]
  },
  {
   "cell_type": "code",
   "execution_count": 14,
   "id": "ed02c715-f658-451a-b1b0-eb2226d99fff",
   "metadata": {},
   "outputs": [
    {
     "data": {
      "text/plain": [
       "20"
      ]
     },
     "execution_count": 14,
     "metadata": {},
     "output_type": "execute_result"
    }
   ],
   "source": [
    "10*2 # multipication"
   ]
  },
  {
   "cell_type": "code",
   "execution_count": 15,
   "id": "f16829d2-6ef2-4c42-93ea-37193e82cadb",
   "metadata": {},
   "outputs": [
    {
     "data": {
      "text/plain": [
       "100"
      ]
     },
     "execution_count": 15,
     "metadata": {},
     "output_type": "execute_result"
    }
   ],
   "source": [
    "10**2 # power"
   ]
  },
  {
   "cell_type": "code",
   "execution_count": 16,
   "id": "2fba506c-8e88-49e7-9ca2-b48a77ab1880",
   "metadata": {},
   "outputs": [
    {
     "ename": "SyntaxError",
     "evalue": "invalid syntax (1867396925.py, line 1)",
     "output_type": "error",
     "traceback": [
      "\u001b[1;36m  Cell \u001b[1;32mIn[16], line 1\u001b[1;36m\u001b[0m\n\u001b[1;33m    10***2\u001b[0m\n\u001b[1;37m        ^\u001b[0m\n\u001b[1;31mSyntaxError\u001b[0m\u001b[1;31m:\u001b[0m invalid syntax\n"
     ]
    }
   ],
   "source": [
    "10***2 "
   ]
  },
  {
   "cell_type": "code",
   "execution_count": 17,
   "id": "63870654-2340-4487-a875-871e7d57bd84",
   "metadata": {},
   "outputs": [
    {
     "data": {
      "text/plain": [
       "2.0"
      ]
     },
     "execution_count": 17,
     "metadata": {},
     "output_type": "execute_result"
    }
   ],
   "source": [
    "10/5  #  float division"
   ]
  },
  {
   "cell_type": "code",
   "execution_count": 18,
   "id": "a3e5d5e6-6ada-4c4c-a9e6-6605589c7412",
   "metadata": {},
   "outputs": [
    {
     "data": {
      "text/plain": [
       "2"
      ]
     },
     "execution_count": 18,
     "metadata": {},
     "output_type": "execute_result"
    }
   ],
   "source": [
    "10//5  # int division"
   ]
  },
  {
   "cell_type": "code",
   "execution_count": 19,
   "id": "2ded26e7-be7c-4c9a-b693-61be46d6248e",
   "metadata": {},
   "outputs": [
    {
     "data": {
      "text/plain": [
       "0"
      ]
     },
     "execution_count": 19,
     "metadata": {},
     "output_type": "execute_result"
    }
   ],
   "source": [
    "10%5 # modulos means remainder, two times %% means we will get error"
   ]
  },
  {
   "cell_type": "code",
   "execution_count": 20,
   "id": "48a05617-f12b-4e0a-b5a2-806669ca3bb8",
   "metadata": {},
   "outputs": [
    {
     "data": {
      "text/plain": [
       "3"
      ]
     },
     "execution_count": 20,
     "metadata": {},
     "output_type": "execute_result"
    }
   ],
   "source": [
    "15%6"
   ]
  },
  {
   "cell_type": "code",
   "execution_count": 21,
   "id": "17a3ce45-963d-468b-923f-7dcad0d990ad",
   "metadata": {},
   "outputs": [
    {
     "data": {
      "text/plain": [
       "2.5"
      ]
     },
     "execution_count": 21,
     "metadata": {},
     "output_type": "execute_result"
    }
   ],
   "source": [
    "15/6 # float division(rigt side)"
   ]
  },
  {
   "cell_type": "code",
   "execution_count": 22,
   "id": "61d4191c-6768-422c-bdc4-ff5d7906dd46",
   "metadata": {},
   "outputs": [
    {
     "data": {
      "text/plain": [
       "2"
      ]
     },
     "execution_count": 22,
     "metadata": {},
     "output_type": "execute_result"
    }
   ],
   "source": [
    "15//6 # int division(right side)"
   ]
  },
  {
   "cell_type": "code",
   "execution_count": null,
   "id": "ae837eb9-72c4-4b3e-b19d-203243327f2e",
   "metadata": {},
   "outputs": [],
   "source": [
    "## operators in python\n",
    "1- ARITHEMATIC OPERATOR( +,-,*,/,%,%%,**,^)\n",
    "2- ASSIGNMENT OPERATOR( =)\n",
    "2- RELATIONAL OERATOR\n",
    "3- LOGICAL OPERATOR\n",
    "4- UNARY OPERATOR"
   ]
  },
  {
   "cell_type": "code",
   "execution_count": 23,
   "id": "c9a33f76-0f26-4019-8ef8-dc807a9ebc76",
   "metadata": {},
   "outputs": [
    {
     "data": {
      "text/plain": [
       "0"
      ]
     },
     "execution_count": 23,
     "metadata": {},
     "output_type": "execute_result"
    }
   ],
   "source": [
    "2^2"
   ]
  },
  {
   "cell_type": "code",
   "execution_count": null,
   "id": "d47faeea-11b2-4be6-b9ec-6461f8fd9bc1",
   "metadata": {},
   "outputs": [],
   "source": [
    "#ASSIGNMEANT OPERATOR"
   ]
  },
  {
   "cell_type": "code",
   "execution_count": 1,
   "id": "71f35e46-b3b8-407f-8976-21800d199de9",
   "metadata": {},
   "outputs": [
    {
     "data": {
      "text/plain": [
       "10"
      ]
     },
     "execution_count": 1,
     "metadata": {},
     "output_type": "execute_result"
    }
   ],
   "source": [
    "x=10\n",
    "x\n",
    "# in python x is called variable or object or identifier\n",
    "# x= 10 means, x value stored with the value 10  "
   ]
  },
  {
   "cell_type": "code",
   "execution_count": 2,
   "id": "a61defd9-c5b3-461d-8124-1ef13dd13183",
   "metadata": {},
   "outputs": [
    {
     "data": {
      "text/plain": [
       "12"
      ]
     },
     "execution_count": 2,
     "metadata": {},
     "output_type": "execute_result"
    }
   ],
   "source": [
    "x+2"
   ]
  },
  {
   "cell_type": "code",
   "execution_count": 3,
   "id": "06a3d9b6-fc52-4fdd-8eba-b864b479f8af",
   "metadata": {},
   "outputs": [
    {
     "data": {
      "text/plain": [
       "12"
      ]
     },
     "execution_count": 3,
     "metadata": {},
     "output_type": "execute_result"
    }
   ],
   "source": [
    "x+2"
   ]
  },
  {
   "cell_type": "code",
   "execution_count": 5,
   "id": "824a69c7-5323-4ed0-acef-e559b960ebce",
   "metadata": {},
   "outputs": [
    {
     "data": {
      "text/plain": [
       "14"
      ]
     },
     "execution_count": 5,
     "metadata": {},
     "output_type": "execute_result"
    }
   ],
   "source": [
    "x+=2\n",
    "x"
   ]
  },
  {
   "cell_type": "code",
   "execution_count": 6,
   "id": "ab098a60-f9dc-45ac-aa51-527ed071f9c2",
   "metadata": {},
   "outputs": [
    {
     "data": {
      "text/plain": [
       "16"
      ]
     },
     "execution_count": 6,
     "metadata": {},
     "output_type": "execute_result"
    }
   ],
   "source": [
    "x+=2\n",
    "x"
   ]
  },
  {
   "cell_type": "code",
   "execution_count": 7,
   "id": "e1da5626-b297-46ff-a57d-517a52560c2d",
   "metadata": {},
   "outputs": [
    {
     "data": {
      "text/plain": [
       "18"
      ]
     },
     "execution_count": 7,
     "metadata": {},
     "output_type": "execute_result"
    }
   ],
   "source": [
    "x+=2\n",
    "x"
   ]
  },
  {
   "cell_type": "code",
   "execution_count": 8,
   "id": "1cfecb48-6ad1-4efd-a0c4-3b1774b61220",
   "metadata": {},
   "outputs": [
    {
     "data": {
      "text/plain": [
       "20"
      ]
     },
     "execution_count": 8,
     "metadata": {},
     "output_type": "execute_result"
    }
   ],
   "source": [
    "x+=2   # incremental assigning operator\n",
    "x      "
   ]
  },
  {
   "cell_type": "code",
   "execution_count": 10,
   "id": "87ff6469-0dae-4b11-8b41-796379e9fa77",
   "metadata": {},
   "outputs": [
    {
     "data": {
      "text/plain": [
       "16"
      ]
     },
     "execution_count": 10,
     "metadata": {},
     "output_type": "execute_result"
    }
   ],
   "source": [
    "x-=2   # decremental assigning operator\n",
    "x      # press run as many times that times it shows result like below 16"
   ]
  },
  {
   "cell_type": "code",
   "execution_count": 11,
   "id": "a7f3c401-9da6-408f-b744-c88aa50df601",
   "metadata": {},
   "outputs": [
    {
     "data": {
      "text/plain": [
       "14"
      ]
     },
     "execution_count": 11,
     "metadata": {},
     "output_type": "execute_result"
    }
   ],
   "source": [
    "x-=2\n",
    "x"
   ]
  },
  {
   "cell_type": "code",
   "execution_count": 12,
   "id": "a1252abd-f4c0-4089-8009-7990263d0226",
   "metadata": {},
   "outputs": [
    {
     "data": {
      "text/plain": [
       "12"
      ]
     },
     "execution_count": 12,
     "metadata": {},
     "output_type": "execute_result"
    }
   ],
   "source": [
    "x-=2\n",
    "x"
   ]
  },
  {
   "cell_type": "code",
   "execution_count": 13,
   "id": "f7c2d864-4489-4f6b-a6f4-82ffd5087bd1",
   "metadata": {},
   "outputs": [
    {
     "data": {
      "text/plain": [
       "12"
      ]
     },
     "execution_count": 13,
     "metadata": {},
     "output_type": "execute_result"
    }
   ],
   "source": [
    "x"
   ]
  },
  {
   "cell_type": "code",
   "execution_count": 14,
   "id": "5dbd8bcc-b66e-45aa-ae08-2646e19e3c36",
   "metadata": {},
   "outputs": [
    {
     "data": {
      "text/plain": [
       "24"
      ]
     },
     "execution_count": 14,
     "metadata": {},
     "output_type": "execute_result"
    }
   ],
   "source": [
    "x*=2\n",
    "x"
   ]
  },
  {
   "cell_type": "code",
   "execution_count": 15,
   "id": "7346b4c6-0c4d-4176-bac8-a0868ab18087",
   "metadata": {},
   "outputs": [
    {
     "data": {
      "text/plain": [
       "48"
      ]
     },
     "execution_count": 15,
     "metadata": {},
     "output_type": "execute_result"
    }
   ],
   "source": [
    "x*=2\n",
    "x"
   ]
  },
  {
   "cell_type": "code",
   "execution_count": 16,
   "id": "4c700f18-b711-4ed7-97b2-b1d1bede7a88",
   "metadata": {},
   "outputs": [
    {
     "data": {
      "text/plain": [
       "24.0"
      ]
     },
     "execution_count": 16,
     "metadata": {},
     "output_type": "execute_result"
    }
   ],
   "source": [
    "x/=2\n",
    "x"
   ]
  },
  {
   "cell_type": "code",
   "execution_count": 18,
   "id": "50df890a-bd68-4f92-81d0-190822b3f755",
   "metadata": {},
   "outputs": [
    {
     "data": {
      "text/plain": [
       "6.0"
      ]
     },
     "execution_count": 18,
     "metadata": {},
     "output_type": "execute_result"
    }
   ],
   "source": [
    "x/=2\n",
    "x   # if i want integer two times division symbol"
   ]
  },
  {
   "cell_type": "code",
   "execution_count": null,
   "id": "68316e34-290d-4068-938d-e7d2b1f5a9cf",
   "metadata": {},
   "outputs": [],
   "source": [
    "# two operators float, one time operator integer"
   ]
  },
  {
   "cell_type": "code",
   "execution_count": null,
   "id": "dce58a6e-1992-466b-bedb-7f87ebdbe392",
   "metadata": {},
   "outputs": [],
   "source": [
    "# unary operator ( means it will give only one value\n",
    "here we are applying unary minus operator(-) on the operand n; the value of m becomes-7,which indicate it a negative value\n",
    "(negattion)"
   ]
  },
  {
   "cell_type": "code",
   "execution_count": 20,
   "id": "07196388-ea20-4f4a-af4d-a6c19a47390b",
   "metadata": {},
   "outputs": [
    {
     "data": {
      "text/plain": [
       "-7"
      ]
     },
     "execution_count": 20,
     "metadata": {},
     "output_type": "execute_result"
    }
   ],
   "source": [
    "m=-n # minus is unary operator\n",
    "m    # this uni -7 is called unary operator"
   ]
  },
  {
   "cell_type": "code",
   "execution_count": 19,
   "id": "fb2042b9-8cc5-460d-ad8e-f0756e0a9a0a",
   "metadata": {},
   "outputs": [
    {
     "data": {
      "text/plain": [
       "7"
      ]
     },
     "execution_count": 19,
     "metadata": {},
     "output_type": "execute_result"
    }
   ],
   "source": [
    "n=7\n",
    "n"
   ]
  },
  {
   "cell_type": "code",
   "execution_count": null,
   "id": "a8d1591c-1314-4053-9057-7a6482d67219",
   "metadata": {},
   "outputs": [],
   "source": []
  }
 ],
 "metadata": {
  "kernelspec": {
   "display_name": "Python [conda env:base] *",
   "language": "python",
   "name": "conda-base-py"
  },
  "language_info": {
   "codemirror_mode": {
    "name": "ipython",
    "version": 3
   },
   "file_extension": ".py",
   "mimetype": "text/x-python",
   "name": "python",
   "nbconvert_exporter": "python",
   "pygments_lexer": "ipython3",
   "version": "3.12.7"
  }
 },
 "nbformat": 4,
 "nbformat_minor": 5
}
